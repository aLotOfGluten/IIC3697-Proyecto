{
  "cells": [
    {
      "cell_type": "markdown",
      "metadata": {
        "id": "96PapqzwAUkB"
      },
      "source": [
        "# Experimentos de Traducción Alemán -> Sipakapense"
      ]
    },
    {
      "cell_type": "code",
      "execution_count": 1,
      "metadata": {
        "colab": {
          "base_uri": "https://localhost:8080/"
        },
        "id": "t_FHD9kw266t",
        "outputId": "6b73b20c-6d93-43dc-e87f-7a3876fbd965"
      },
      "outputs": [
        {
          "output_type": "stream",
          "name": "stdout",
          "text": [
            "Mounted at /content/drive\n"
          ]
        }
      ],
      "source": [
        "from google.colab import drive\n",
        "drive.mount('/content/drive')"
      ]
    },
    {
      "cell_type": "code",
      "execution_count": 1,
      "metadata": {
        "id": "yheiPHx8YN0m"
      },
      "outputs": [],
      "source": [
        "lang = \"de\"\n",
        "n_epochs = 15"
      ]
    },
    {
      "cell_type": "markdown",
      "metadata": {
        "id": "g5rb6MT0A5mD"
      },
      "source": [
        "## Librerías"
      ]
    },
    {
      "cell_type": "code",
      "execution_count": 3,
      "metadata": {
        "id": "yFaCwcFLx9HV"
      },
      "outputs": [],
      "source": [
        "from IPython.display import clear_output"
      ]
    },
    {
      "cell_type": "code",
      "execution_count": 4,
      "metadata": {
        "id": "Hg_qHsB95EzQ"
      },
      "outputs": [],
      "source": [
        "!pip install -U bitsandbytes\n",
        "clear_output()"
      ]
    },
    {
      "cell_type": "code",
      "execution_count": 5,
      "metadata": {
        "id": "NF14LcemARSd"
      },
      "outputs": [],
      "source": [
        "!pip install -U accelerate peft transformers sentencepiece datasets\n",
        "!pip install evaluate\n",
        "!pip install rouge_score\n",
        "!pip install nltk\n",
        "clear_output()"
      ]
    },
    {
      "cell_type": "code",
      "execution_count": 5,
      "metadata": {
        "id": "7-HRnAKmA8LR"
      },
      "outputs": [],
      "source": [
        "from transformers import AutoTokenizer, AutoModelForSeq2SeqLM, Trainer, TrainingArguments, BitsAndBytesConfig\n",
        "from peft import LoraConfig, get_peft_model, TaskType\n",
        "from datasets import load_dataset, DatasetDict, Dataset\n",
        "import evaluate\n",
        "from tqdm import tqdm\n",
        "import csv\n",
        "import torch\n",
        "import os"
      ]
    },
    {
      "cell_type": "markdown",
      "metadata": {
        "id": "6x8Nds_8Y1Mm"
      },
      "source": [
        "## Datasets\n",
        "!REQUIERE SUBIR LOS ARCHIVOS DEL DATASET SINTETICO"
      ]
    },
    {
      "cell_type": "markdown",
      "metadata": {
        "id": "smVHNrAeY5ck"
      },
      "source": [
        "Dataset se puede encontrar en el [siguiente enlace](https://github.com/transducens/mayanv)."
      ]
    },
    {
      "cell_type": "code",
      "execution_count": 7,
      "metadata": {
        "colab": {
          "base_uri": "https://localhost:8080/"
        },
        "id": "F1ViYHauY4v3",
        "outputId": "a98f9c73-bada-41b6-ebcb-10770b779328"
      },
      "outputs": [
        {
          "output_type": "stream",
          "name": "stdout",
          "text": [
            "Cloning into 'mayanv'...\n",
            "remote: Enumerating objects: 177, done.\u001b[K\n",
            "remote: Counting objects: 100% (177/177), done.\u001b[K\n",
            "remote: Compressing objects: 100% (163/163), done.\u001b[K\n",
            "remote: Total 177 (delta 22), reused 157 (delta 14), pack-reused 0 (from 0)\u001b[K\n",
            "Receiving objects: 100% (177/177), 1.35 MiB | 5.46 MiB/s, done.\n",
            "Resolving deltas: 100% (22/22), done.\n"
          ]
        }
      ],
      "source": [
        "!git clone https://github.com/transducens/mayanv.git"
      ]
    },
    {
      "cell_type": "code",
      "execution_count": 2,
      "metadata": {
        "id": "ghoF4-noMjaC"
      },
      "outputs": [],
      "source": [
        "def load_lines(path):\n",
        "    with open(path, encoding=\"utf-8\") as f:\n",
        "        return [line.strip() for line in f if line.strip()]\n",
        "\n",
        "def generate_dataset(language, train_folder=\"train\", test_folder=\"test\", base_path=\"mayanv/MayanV\"):\n",
        "    # Rutas\n",
        "    train_lang_path = f\"{base_path}/{language}/{train_folder}/data.{language}\"\n",
        "    test_lang_path = f\"{base_path}/{language}/{test_folder}/data.{language}\"\n",
        "\n",
        "    train_es_path = f\"{base_path}/{language}/{train_folder}/data.es\"\n",
        "    test_es_path = f\"{base_path}/{language}/{test_folder}/data.es\"\n",
        "\n",
        "    train_src = load_lines(train_lang_path)\n",
        "    train_tgt = load_lines(train_es_path)\n",
        "\n",
        "    test_src = load_lines(test_lang_path)\n",
        "    test_tgt = load_lines(test_es_path)\n",
        "\n",
        "    # Crea datasets\n",
        "    train_dataset = Dataset.from_dict({\"input\": train_src, \"target\": train_tgt})\n",
        "    test_dataset = Dataset.from_dict({\"input\": test_src, \"target\": test_tgt})\n",
        "\n",
        "    return DatasetDict({\n",
        "        \"train\": train_dataset,\n",
        "        \"test\": test_dataset,\n",
        "    })"
      ]
    },
    {
      "cell_type": "code",
      "execution_count": 3,
      "metadata": {
        "id": "PmYZbWQ1kPpQ"
      },
      "outputs": [],
      "source": [
        "def invertir_input_target(example):\n",
        "    return {\n",
        "        \"input\": example[\"target\"],\n",
        "        \"target\": example[\"input\"]\n",
        "    }"
      ]
    },
    {
      "cell_type": "code",
      "execution_count": 6,
      "metadata": {
        "colab": {
          "base_uri": "https://localhost:8080/",
          "height": 81,
          "referenced_widgets": [
            "7e974505756342bdaa9129190a442e75",
            "ec5dd35c027a4cbc8eddaa57ec81a57e",
            "ea21c535891c4f3281edb01580fbe223",
            "de205eb254c54e179465526a66a0346f",
            "3ee6a14db43b4b93a0711022bc7f340b",
            "5c63cd94e96640f993d7b7c2eff38bad",
            "2f9eed0e883348c7be18be8573db52c9",
            "99c965c00733460eb7e9aa5312efe099",
            "0be68fb831dd4168b8134d4a6c9d0ed2",
            "1c4281ecdfbe4b0f806c9524c667419b",
            "5fcd0543126849bdb8fa02e5e2ef3b3b",
            "48ffc9bf7e2547c099122f7396153e00",
            "2d700ab05e4b415b9157f1ee5be8b601",
            "628dcc7cb0d04a8b84d76bd70c4ebc05",
            "1bc42053f3144d0cb5e10f1bc0f7dd77",
            "a2ab2f041dbb4fd0b08e946d7318c59f",
            "e45ef5c4b68c40b394e380f97c962fa5",
            "d3e4c87c3f914e6db214f1722b32d5c3",
            "83f272cc4f9c4770b2b21fac5e26423a",
            "fedb7a7474564fb8ba301273e3f4448e",
            "ca1624f08f9c4e8d80af2505045611d4",
            "127c6a607d3a4d89a87ae364166556be"
          ]
        },
        "id": "4l0xcZcOgsmx",
        "outputId": "f562662e-2314-46dc-8497-04ae4b89ee46"
      },
      "outputs": [
        {
          "output_type": "display_data",
          "data": {
            "text/plain": [
              "Map:   0%|          | 0/1000 [00:00<?, ? examples/s]"
            ],
            "application/vnd.jupyter.widget-view+json": {
              "version_major": 2,
              "version_minor": 0,
              "model_id": "7e974505756342bdaa9129190a442e75"
            }
          },
          "metadata": {}
        },
        {
          "output_type": "display_data",
          "data": {
            "text/plain": [
              "Map:   0%|          | 0/321 [00:00<?, ? examples/s]"
            ],
            "application/vnd.jupyter.widget-view+json": {
              "version_major": 2,
              "version_minor": 0,
              "model_id": "48ffc9bf7e2547c099122f7396153e00"
            }
          },
          "metadata": {}
        }
      ],
      "source": [
        "es_qum_dataset = generate_dataset(\"qum\", train_folder=\"test\", test_folder=\"dev\")\n",
        "es_qum_dataset = DatasetDict({\n",
        "    \"train\": es_qum_dataset[\"train\"].map(invertir_input_target),\n",
        "    \"test\": es_qum_dataset[\"test\"].map(invertir_input_target),\n",
        "})"
      ]
    },
    {
      "cell_type": "code",
      "execution_count": 7,
      "metadata": {
        "id": "e-p1Rq94bTJL"
      },
      "outputs": [],
      "source": [
        "def generate_en_qum_dataset_from_files(\n",
        "    data_dir=\"./\",\n",
        "    base_path=\"mayanv/MayanV\",\n",
        "    language=\"qum\",\n",
        "    train_folder=\"test\",\n",
        "    test_folder=\"dev\",\n",
        "    lang=lang\n",
        "):\n",
        "    # Paths a los archivos .en\n",
        "    train_en_path = os.path.join(data_dir, f\"train.{lang}\")\n",
        "    test_en_path = os.path.join(data_dir, f\"test.{lang}\")\n",
        "\n",
        "    # Paths a los archivos .qum\n",
        "    train_qum_path = os.path.join(base_path, language, train_folder, \"data.qum\")\n",
        "    test_qum_path = os.path.join(base_path, language, test_folder, \"data.qum\")\n",
        "\n",
        "    # Carga las líneas\n",
        "    train_en = load_lines(train_en_path)\n",
        "    test_en = load_lines(test_en_path)\n",
        "\n",
        "    train_qum = load_lines(train_qum_path)\n",
        "    test_qum = load_lines(test_qum_path)\n",
        "\n",
        "    # Validación\n",
        "    assert len(train_en) == len(train_qum), f\"Train mismatch: {len(train_en)} vs {len(train_qum)}\"\n",
        "    assert len(test_en) == len(test_qum), f\"Test mismatch: {len(test_en)} vs {len(test_qum)}\"\n",
        "\n",
        "    # Combina en datasets Hugging Face\n",
        "    train_dataset = Dataset.from_dict({\"input\": train_en, \"target\": train_qum})\n",
        "    test_dataset = Dataset.from_dict({\"input\": test_en, \"target\": test_qum})\n",
        "\n",
        "    return DatasetDict({\n",
        "        \"train\": train_dataset,\n",
        "        \"test\": test_dataset,\n",
        "    })\n",
        "\n",
        "\n",
        "en_qum_dataset = generate_en_qum_dataset_from_files()"
      ]
    },
    {
      "cell_type": "markdown",
      "metadata": {
        "id": "R6AMhN2GZpNt"
      },
      "source": [
        "## Funciones"
      ]
    },
    {
      "cell_type": "code",
      "execution_count": 8,
      "metadata": {
        "id": "4fo2s-t9Zozn"
      },
      "outputs": [],
      "source": [
        "def preprocess_function(examples):\n",
        "    max_length = 128\n",
        "\n",
        "    inputs = finetune_tokenizer(\n",
        "        examples[\"input\"],\n",
        "        max_length=max_length,\n",
        "        truncation=True,\n",
        "        padding=\"max_length\"\n",
        "    )\n",
        "\n",
        "    targets = finetune_tokenizer(\n",
        "        examples[\"target\"],\n",
        "        max_length=max_length,\n",
        "        truncation=True,\n",
        "        padding=\"max_length\"\n",
        "    )\n",
        "\n",
        "    inputs[\"labels\"] = targets[\"input_ids\"]\n",
        "    return inputs\n",
        "\n",
        "\n",
        "def translate_text(model, tokenizer, text, src_lang, tgt_lang):\n",
        "    tokenizer.src_lang = src_lang\n",
        "    forced_bos_id = tokenizer.convert_tokens_to_ids(tgt_lang)\n",
        "\n",
        "    # Detecta el dispositivo (GPU o CPU)\n",
        "    device = next(model.parameters()).device\n",
        "\n",
        "    # Tokeniza y mueve a la misma device\n",
        "    inputs = tokenizer(text, return_tensors=\"pt\", truncation=True, padding=True).to(device)\n",
        "\n",
        "    # Generación\n",
        "    outputs = model.generate(**inputs, forced_bos_token_id=forced_bos_id)\n",
        "    return tokenizer.batch_decode(outputs, skip_special_tokens=True)[0]\n",
        "\n",
        "\n",
        "def build_and_save_split_en_only(split, model, tokenizer, output_dir):\n",
        "    input_path = os.path.join(output_dir, f\"{split}.{lang}\")\n",
        "    os.makedirs(output_dir, exist_ok=True)\n",
        "\n",
        "    with open(input_path, \"w\", encoding=\"utf-8\") as f_en:\n",
        "        print(f\"🔄 Traduciendo y guardando split '{split}' al {lang}...\\n\")\n",
        "\n",
        "        for example in tqdm(es_qum_dataset[split]):\n",
        "            es_text = example[\"input\"].replace(\"#qum#\", \"\").strip()\n",
        "\n",
        "            try:\n",
        "                en_text = translate_text(model, tokenizer, es_text, \"spa_Latn\", f\"{lang}_Latn\")\n",
        "                en_text = \"#qum# \" + en_text.strip()\n",
        "            except Exception as e:\n",
        "                print(f\"❌ Error traduciendo: {es_text}\\n{e}\")\n",
        "                en_text = \"#qum#\"\n",
        "\n",
        "            f_en.write(en_text + \"\\n\")\n",
        "\n",
        "    print(f\"✅ Archivo '{split}.{lang}' guardado en {output_dir}\")"
      ]
    },
    {
      "cell_type": "markdown",
      "metadata": {
        "id": "Q5ukIdzqYhCo"
      },
      "source": [
        "## Crear dataset sintético\n",
        "!SOLO EJECUTAR SI NO SE TIENE EL DATASET TODAVIA"
      ]
    },
    {
      "cell_type": "code",
      "execution_count": null,
      "metadata": {
        "id": "SOjTDQjmYq8F"
      },
      "outputs": [],
      "source": [
        "model_name = \"facebook/nllb-200-distilled-600M\"\n",
        "mid_tokenizer = AutoTokenizer.from_pretrained(model_name, use_fast=True)\n",
        "mid_model = AutoModelForSeq2SeqLM.from_pretrained(model_name)\n",
        "mid_tokenizer.src_lang = \"spa_Latn\"\n",
        "mid_forced_bos_id = mid_tokenizer.convert_tokens_to_ids(f\"{lang}_Latn\")"
      ]
    },
    {
      "cell_type": "code",
      "execution_count": null,
      "metadata": {
        "id": "9U4gFjfFYots"
      },
      "outputs": [],
      "source": [
        "output_dir = \"/content/drive/MyDrive/en_qum_dataset\"\n",
        "\n",
        "build_and_save_split_en_only(\"test\", mid_model, mid_tokenizer, output_dir)\n",
        "build_and_save_split_en_only(\"train\", mid_model, mid_tokenizer, output_dir)"
      ]
    },
    {
      "cell_type": "markdown",
      "metadata": {
        "id": "a6y8Xh2RBAmS"
      },
      "source": [
        "## Modelos"
      ]
    },
    {
      "cell_type": "markdown",
      "metadata": {
        "id": "qjWCp3bkc27u"
      },
      "source": [
        "### 1. Modelo con Finetuning Español-Sipakapense"
      ]
    },
    {
      "cell_type": "code",
      "execution_count": null,
      "metadata": {
        "id": "j0zKtLz_K7Uc"
      },
      "outputs": [],
      "source": [
        "model_name = \"facebook/nllb-200-distilled-600M\"\n",
        "finetune_tokenizer = AutoTokenizer.from_pretrained(model_name, use_fast=True)\n",
        "\n",
        "bnb_config = BitsAndBytesConfig(\n",
        "    load_in_4bit=True,\n",
        "    bnb_4bit_compute_dtype=torch.float16,\n",
        "    bnb_4bit_use_double_quant=True,\n",
        "    bnb_4bit_quant_type=\"nf4\",\n",
        ")\n",
        "\n",
        "\n",
        "finetune_model = AutoModelForSeq2SeqLM.from_pretrained(\n",
        "    model_name,\n",
        "    quantization_config=bnb_config,\n",
        "    device_map=\"auto\"\n",
        ")\n",
        "\n",
        "# Configurar LoRA\n",
        "lora_config = LoraConfig(\n",
        "    r=8,\n",
        "    lora_alpha=32,\n",
        "    target_modules=[\"q_proj\", \"v_proj\"],\n",
        "    lora_dropout=0.1,\n",
        "    bias=\"none\",\n",
        "    task_type=TaskType.SEQ_2_SEQ_LM\n",
        ")\n",
        "\n",
        "# Aplicar QLoRA\n",
        "finetune_model = get_peft_model(finetune_model, lora_config)"
      ]
    },
    {
      "cell_type": "code",
      "execution_count": null,
      "metadata": {
        "id": "-TAeIyJ4pOZM"
      },
      "outputs": [],
      "source": [
        "# Añadir el token especial \"#qum#\" como marcador de idioma\n",
        "special_tokens_dict = {\"additional_special_tokens\": [\"#qum#\"]}\n",
        "finetune_tokenizer.add_special_tokens(special_tokens_dict)\n",
        "\n",
        "# Redimensionar embeddings del modelo para incluir el nuevo token\n",
        "finetune_model.resize_token_embeddings(len(finetune_tokenizer))"
      ]
    },
    {
      "cell_type": "code",
      "execution_count": null,
      "metadata": {
        "id": "R2iPhpoQnSc2"
      },
      "outputs": [],
      "source": [
        "tokenized_train = es_qum_dataset[\"train\"].map(preprocess_function, batched=True)\n",
        "tokenized_test = es_qum_dataset[\"test\"].map(preprocess_function, batched=True)"
      ]
    },
    {
      "cell_type": "code",
      "execution_count": null,
      "metadata": {
        "id": "aXgDM4lAnagN"
      },
      "outputs": [],
      "source": [
        "os.environ[\"WANDB_DISABLED\"] = \"true\"\n",
        "\n",
        "training_args = TrainingArguments(\n",
        "    output_dir=\"./qlora_finetuned_qum_nllb\",\n",
        "    per_device_train_batch_size=4,\n",
        "    per_device_eval_batch_size=4,\n",
        "    num_train_epochs=n_epochs,\n",
        "    learning_rate=2e-4,\n",
        "    save_strategy=\"epoch\",\n",
        "    logging_dir=\"./logs_qlora\",\n",
        "    save_total_limit=2,\n",
        "    bf16=False,\n",
        "    fp16=True\n",
        ")\n",
        "\n",
        "trainer = Trainer(\n",
        "    model=finetune_model,\n",
        "    args=training_args,\n",
        "    train_dataset=tokenized_train,\n",
        "    eval_dataset=tokenized_test,\n",
        "    tokenizer=finetune_tokenizer,\n",
        ")\n",
        "\n",
        "trainer.train()\n",
        "finetune_model.save_pretrained(\"./qlora_finetuned_qum_nllb\")\n",
        "finetune_tokenizer.save_pretrained(\"./qlora_finetuned_qum_nllb\")"
      ]
    },
    {
      "cell_type": "markdown",
      "metadata": {
        "id": "dazLUZlhKKHk"
      },
      "source": [
        "### 2. Modelo con Finetuning Portugues-Sipakapense"
      ]
    },
    {
      "cell_type": "code",
      "execution_count": 9,
      "metadata": {
        "id": "LEUkIjpj33ln",
        "colab": {
          "base_uri": "https://localhost:8080/"
        },
        "outputId": "06beadb2-3598-427e-fcdc-b26a80dbd41c"
      },
      "outputs": [
        {
          "output_type": "stream",
          "name": "stderr",
          "text": [
            "/usr/local/lib/python3.11/dist-packages/huggingface_hub/utils/_auth.py:94: UserWarning: \n",
            "The secret `HF_TOKEN` does not exist in your Colab secrets.\n",
            "To authenticate with the Hugging Face Hub, create a token in your settings tab (https://huggingface.co/settings/tokens), set it as secret in your Google Colab and restart your session.\n",
            "You will be able to reuse this secret in all of your notebooks.\n",
            "Please note that authentication is recommended but still optional to access public models or datasets.\n",
            "  warnings.warn(\n"
          ]
        }
      ],
      "source": [
        "model_name = \"facebook/nllb-200-distilled-600M\"\n",
        "en_qum_tokenizer = AutoTokenizer.from_pretrained(model_name, use_fast=True)\n",
        "\n",
        "bnb_config = BitsAndBytesConfig(\n",
        "    load_in_4bit=True,\n",
        "    bnb_4bit_compute_dtype=torch.float16,\n",
        "    bnb_4bit_use_double_quant=True,\n",
        "    bnb_4bit_quant_type=\"nf4\"\n",
        ")\n",
        "\n",
        "base_model = AutoModelForSeq2SeqLM.from_pretrained(\n",
        "    model_name,\n",
        "    quantization_config=bnb_config,\n",
        "    device_map=\"auto\"\n",
        ")\n",
        "\n",
        "lora_config = LoraConfig(\n",
        "    r=8,\n",
        "    lora_alpha=32,\n",
        "    target_modules=[\"q_proj\", \"v_proj\"],\n",
        "    lora_dropout=0.1,\n",
        "    bias=\"none\",\n",
        "    task_type=TaskType.SEQ_2_SEQ_LM\n",
        ")\n",
        "\n",
        "en_qum_model = get_peft_model(base_model, lora_config)"
      ]
    },
    {
      "cell_type": "code",
      "execution_count": 10,
      "metadata": {
        "id": "Stma1J90dTmA",
        "colab": {
          "base_uri": "https://localhost:8080/"
        },
        "outputId": "0ec76107-a1ee-455a-e774-e1307f7ff6d4"
      },
      "outputs": [
        {
          "output_type": "execute_result",
          "data": {
            "text/plain": [
              "M2M100ScaledWordEmbedding(256205, 1024, padding_idx=1)"
            ]
          },
          "metadata": {},
          "execution_count": 10
        }
      ],
      "source": [
        "# Añadir el token especial \"#qum#\" como marcador de idioma\n",
        "special_tokens_dict = {\"additional_special_tokens\": [\"#qum#\"]}\n",
        "en_qum_tokenizer.add_special_tokens(special_tokens_dict)\n",
        "\n",
        "# Redimensionar embeddings del modelo para incluir el nuevo token\n",
        "en_qum_model.resize_token_embeddings(len(en_qum_tokenizer))"
      ]
    },
    {
      "cell_type": "code",
      "execution_count": 11,
      "metadata": {
        "id": "w1sEWghP4B7C",
        "colab": {
          "base_uri": "https://localhost:8080/",
          "height": 81,
          "referenced_widgets": [
            "defaad35c34b44529ad633b94c648386",
            "98bcc29fd499436a9337afc8129a702c",
            "a13ad405acb7418d8f8d27b826ea7fe9",
            "428329930bc34f06b3b80c838ea10160",
            "92809da1ec2d4b4bb657583608ddc20e",
            "945063cfd1c34da8bae28b39e5a19661",
            "0ebabbf85d67462680e1d9d2ae2114b1",
            "879e5295284447e7b83b1af2a18739f5",
            "8a476a7d18e5476fb39e281fc4b0b206",
            "b375fa15fc654fb49972e7daafb114a6",
            "3a75c6f24a0d4d9a907969603d91a367",
            "2b19cdfca8954c6da05296a2bff6eefe",
            "7e12388c76fc42058fedf35a80d65309",
            "b7bf74531c974837a51849e0100fd121",
            "06960b7ba05c4a71adc2fcbd8ba2b932",
            "e3c8e074684e491d9f1dcbca7832914d",
            "8217bb1a8b254592b697caa227e84a0e",
            "f70a673c58934e4db442d711e8beeca8",
            "213f91aecc444a41a8230ea2572c2b18",
            "42696f5ab35d4633bd36d3a91a117cab",
            "fc1b254b68d34501b4cb45f4c18b291a",
            "941c16a5a30a429ab43958fd9b8118bc"
          ]
        },
        "outputId": "1adce355-7979-4cdf-d410-608779016508"
      },
      "outputs": [
        {
          "output_type": "display_data",
          "data": {
            "text/plain": [
              "Map:   0%|          | 0/1000 [00:00<?, ? examples/s]"
            ],
            "application/vnd.jupyter.widget-view+json": {
              "version_major": 2,
              "version_minor": 0,
              "model_id": "defaad35c34b44529ad633b94c648386"
            }
          },
          "metadata": {}
        },
        {
          "output_type": "display_data",
          "data": {
            "text/plain": [
              "Map:   0%|          | 0/321 [00:00<?, ? examples/s]"
            ],
            "application/vnd.jupyter.widget-view+json": {
              "version_major": 2,
              "version_minor": 0,
              "model_id": "2b19cdfca8954c6da05296a2bff6eefe"
            }
          },
          "metadata": {}
        }
      ],
      "source": [
        "def preprocess_function_en_qum(examples):\n",
        "    max_length = 128\n",
        "    inputs = en_qum_tokenizer(examples[\"input\"], max_length=max_length, truncation=True, padding=True)\n",
        "    targets = en_qum_tokenizer(examples[\"target\"], max_length=max_length, truncation=True, padding=True)\n",
        "    inputs[\"labels\"] = targets[\"input_ids\"]\n",
        "    return inputs\n",
        "\n",
        "tokenized_en_qum_train = en_qum_dataset[\"train\"].map(preprocess_function_en_qum, batched=True)\n",
        "tokenized_en_qum_test = en_qum_dataset[\"test\"].map(preprocess_function_en_qum, batched=True)"
      ]
    },
    {
      "cell_type": "code",
      "execution_count": 12,
      "metadata": {
        "colab": {
          "base_uri": "https://localhost:8080/"
        },
        "id": "mxivqDvt4GEf",
        "outputId": "c93a2f1a-89ef-4436-fd49-1c8f87cc766e"
      },
      "outputs": [
        {
          "output_type": "stream",
          "name": "stderr",
          "text": [
            "Using the `WANDB_DISABLED` environment variable is deprecated and will be removed in v5. Use the --report_to flag to control the integrations used for logging result (for instance --report_to none).\n"
          ]
        }
      ],
      "source": [
        "os.environ[\"WANDB_DISABLED\"] = \"true\"\n",
        "\n",
        "training_args_en_qum = TrainingArguments(\n",
        "    output_dir=\"./finetuned_en_qum_nllb\",\n",
        "    learning_rate=5e-5,\n",
        "    per_device_train_batch_size=8,\n",
        "    per_device_eval_batch_size=8,\n",
        "    num_train_epochs=n_epochs,\n",
        "    weight_decay=0.01,\n",
        "    save_total_limit=2,\n",
        "    save_strategy=\"epoch\",\n",
        "    logging_dir=\"./logs_en_qum\",\n",
        "    logging_steps=100,\n",
        ")"
      ]
    },
    {
      "cell_type": "code",
      "execution_count": 13,
      "metadata": {
        "id": "WWYUxQWm4IU_",
        "colab": {
          "base_uri": "https://localhost:8080/",
          "height": 1000
        },
        "outputId": "21606d59-0c78-4a75-9b62-b028cbafb421"
      },
      "outputs": [
        {
          "output_type": "stream",
          "name": "stderr",
          "text": [
            "/tmp/ipython-input-13-1310942191.py:1: FutureWarning: `tokenizer` is deprecated and will be removed in version 5.0.0 for `Trainer.__init__`. Use `processing_class` instead.\n",
            "  trainer_en_qum = Trainer(\n",
            "No label_names provided for model class `PeftModelForSeq2SeqLM`. Since `PeftModel` hides base models input arguments, if label_names is not given, label_names can't be set automatically within `Trainer`. Note that empty label_names list will be used instead.\n",
            "Passing a tuple of `past_key_values` is deprecated and will be removed in Transformers v4.58.0. You should pass an instance of `EncoderDecoderCache` instead, e.g. `past_key_values=EncoderDecoderCache.from_legacy_cache(past_key_values)`.\n"
          ]
        },
        {
          "output_type": "display_data",
          "data": {
            "text/plain": [
              "<IPython.core.display.HTML object>"
            ],
            "text/html": [
              "\n",
              "    <div>\n",
              "      \n",
              "      <progress value='1875' max='1875' style='width:300px; height:20px; vertical-align: middle;'></progress>\n",
              "      [1875/1875 11:59, Epoch 15/15]\n",
              "    </div>\n",
              "    <table border=\"1\" class=\"dataframe\">\n",
              "  <thead>\n",
              " <tr style=\"text-align: left;\">\n",
              "      <th>Step</th>\n",
              "      <th>Training Loss</th>\n",
              "    </tr>\n",
              "  </thead>\n",
              "  <tbody>\n",
              "    <tr>\n",
              "      <td>100</td>\n",
              "      <td>10.438100</td>\n",
              "    </tr>\n",
              "    <tr>\n",
              "      <td>200</td>\n",
              "      <td>9.075000</td>\n",
              "    </tr>\n",
              "    <tr>\n",
              "      <td>300</td>\n",
              "      <td>8.129700</td>\n",
              "    </tr>\n",
              "    <tr>\n",
              "      <td>400</td>\n",
              "      <td>7.277700</td>\n",
              "    </tr>\n",
              "    <tr>\n",
              "      <td>500</td>\n",
              "      <td>6.817600</td>\n",
              "    </tr>\n",
              "    <tr>\n",
              "      <td>600</td>\n",
              "      <td>6.615200</td>\n",
              "    </tr>\n",
              "    <tr>\n",
              "      <td>700</td>\n",
              "      <td>6.513600</td>\n",
              "    </tr>\n",
              "    <tr>\n",
              "      <td>800</td>\n",
              "      <td>6.429700</td>\n",
              "    </tr>\n",
              "    <tr>\n",
              "      <td>900</td>\n",
              "      <td>6.400200</td>\n",
              "    </tr>\n",
              "    <tr>\n",
              "      <td>1000</td>\n",
              "      <td>6.341000</td>\n",
              "    </tr>\n",
              "    <tr>\n",
              "      <td>1100</td>\n",
              "      <td>6.303000</td>\n",
              "    </tr>\n",
              "    <tr>\n",
              "      <td>1200</td>\n",
              "      <td>6.280100</td>\n",
              "    </tr>\n",
              "    <tr>\n",
              "      <td>1300</td>\n",
              "      <td>6.278700</td>\n",
              "    </tr>\n",
              "    <tr>\n",
              "      <td>1400</td>\n",
              "      <td>6.205200</td>\n",
              "    </tr>\n",
              "    <tr>\n",
              "      <td>1500</td>\n",
              "      <td>6.223200</td>\n",
              "    </tr>\n",
              "    <tr>\n",
              "      <td>1600</td>\n",
              "      <td>6.221800</td>\n",
              "    </tr>\n",
              "    <tr>\n",
              "      <td>1700</td>\n",
              "      <td>6.185100</td>\n",
              "    </tr>\n",
              "    <tr>\n",
              "      <td>1800</td>\n",
              "      <td>6.197900</td>\n",
              "    </tr>\n",
              "  </tbody>\n",
              "</table><p>"
            ]
          },
          "metadata": {}
        },
        {
          "output_type": "stream",
          "name": "stderr",
          "text": [
            "/usr/local/lib/python3.11/dist-packages/peft/utils/save_and_load.py:252: UserWarning: Setting `save_embedding_layers` to `True` as the embedding layer has been resized during finetuning.\n",
            "  warnings.warn(\n",
            "/usr/local/lib/python3.11/dist-packages/peft/utils/save_and_load.py:252: UserWarning: Setting `save_embedding_layers` to `True` as the embedding layer has been resized during finetuning.\n",
            "  warnings.warn(\n",
            "/usr/local/lib/python3.11/dist-packages/peft/utils/save_and_load.py:252: UserWarning: Setting `save_embedding_layers` to `True` as the embedding layer has been resized during finetuning.\n",
            "  warnings.warn(\n",
            "/usr/local/lib/python3.11/dist-packages/peft/utils/save_and_load.py:252: UserWarning: Setting `save_embedding_layers` to `True` as the embedding layer has been resized during finetuning.\n",
            "  warnings.warn(\n",
            "/usr/local/lib/python3.11/dist-packages/peft/utils/save_and_load.py:252: UserWarning: Setting `save_embedding_layers` to `True` as the embedding layer has been resized during finetuning.\n",
            "  warnings.warn(\n",
            "/usr/local/lib/python3.11/dist-packages/peft/utils/save_and_load.py:252: UserWarning: Setting `save_embedding_layers` to `True` as the embedding layer has been resized during finetuning.\n",
            "  warnings.warn(\n",
            "/usr/local/lib/python3.11/dist-packages/peft/utils/save_and_load.py:252: UserWarning: Setting `save_embedding_layers` to `True` as the embedding layer has been resized during finetuning.\n",
            "  warnings.warn(\n",
            "/usr/local/lib/python3.11/dist-packages/peft/utils/save_and_load.py:252: UserWarning: Setting `save_embedding_layers` to `True` as the embedding layer has been resized during finetuning.\n",
            "  warnings.warn(\n",
            "/usr/local/lib/python3.11/dist-packages/peft/utils/save_and_load.py:252: UserWarning: Setting `save_embedding_layers` to `True` as the embedding layer has been resized during finetuning.\n",
            "  warnings.warn(\n",
            "/usr/local/lib/python3.11/dist-packages/peft/utils/save_and_load.py:252: UserWarning: Setting `save_embedding_layers` to `True` as the embedding layer has been resized during finetuning.\n",
            "  warnings.warn(\n",
            "/usr/local/lib/python3.11/dist-packages/peft/utils/save_and_load.py:252: UserWarning: Setting `save_embedding_layers` to `True` as the embedding layer has been resized during finetuning.\n",
            "  warnings.warn(\n",
            "/usr/local/lib/python3.11/dist-packages/peft/utils/save_and_load.py:252: UserWarning: Setting `save_embedding_layers` to `True` as the embedding layer has been resized during finetuning.\n",
            "  warnings.warn(\n",
            "/usr/local/lib/python3.11/dist-packages/peft/utils/save_and_load.py:252: UserWarning: Setting `save_embedding_layers` to `True` as the embedding layer has been resized during finetuning.\n",
            "  warnings.warn(\n",
            "/usr/local/lib/python3.11/dist-packages/peft/utils/save_and_load.py:252: UserWarning: Setting `save_embedding_layers` to `True` as the embedding layer has been resized during finetuning.\n",
            "  warnings.warn(\n",
            "/usr/local/lib/python3.11/dist-packages/peft/utils/save_and_load.py:252: UserWarning: Setting `save_embedding_layers` to `True` as the embedding layer has been resized during finetuning.\n",
            "  warnings.warn(\n"
          ]
        },
        {
          "output_type": "execute_result",
          "data": {
            "text/plain": [
              "TrainOutput(global_step=1875, training_loss=6.857385416666666, metrics={'train_runtime': 720.0946, 'train_samples_per_second': 20.831, 'train_steps_per_second': 2.604, 'total_flos': 796271616000000.0, 'train_loss': 6.857385416666666, 'epoch': 15.0})"
            ]
          },
          "metadata": {},
          "execution_count": 13
        }
      ],
      "source": [
        "trainer_en_qum = Trainer(\n",
        "    model=en_qum_model,\n",
        "    args=training_args_en_qum,\n",
        "    train_dataset=tokenized_en_qum_train,\n",
        "    eval_dataset=tokenized_en_qum_test,\n",
        "    tokenizer=en_qum_tokenizer,\n",
        ")\n",
        "\n",
        "trainer_en_qum.train()"
      ]
    },
    {
      "cell_type": "markdown",
      "metadata": {
        "id": "tc2QH1HJcuKn"
      },
      "source": [
        "## Evaluación"
      ]
    },
    {
      "cell_type": "markdown",
      "metadata": {
        "id": "U9jCIC05CCG_"
      },
      "source": [
        "### Métricas"
      ]
    },
    {
      "cell_type": "code",
      "execution_count": 14,
      "metadata": {
        "id": "YEoaaYAZCDnX",
        "colab": {
          "base_uri": "https://localhost:8080/"
        },
        "outputId": "b656db75-4a02-4d19-cdc9-ec1d2346687d"
      },
      "outputs": [
        {
          "output_type": "stream",
          "name": "stderr",
          "text": [
            "[nltk_data] Downloading package wordnet to /root/nltk_data...\n",
            "[nltk_data]   Package wordnet is already up-to-date!\n",
            "[nltk_data] Downloading package punkt_tab to /root/nltk_data...\n",
            "[nltk_data]   Package punkt_tab is already up-to-date!\n",
            "[nltk_data] Downloading package omw-1.4 to /root/nltk_data...\n",
            "[nltk_data]   Package omw-1.4 is already up-to-date!\n"
          ]
        }
      ],
      "source": [
        "rouge = evaluate.load(\"rouge\")\n",
        "bleu = evaluate.load(\"bleu\")\n",
        "meteor = evaluate.load(\"meteor\")"
      ]
    },
    {
      "cell_type": "markdown",
      "metadata": {
        "id": "coKh9lECcw45"
      },
      "source": [
        "### Experimentos"
      ]
    },
    {
      "cell_type": "code",
      "execution_count": 15,
      "metadata": {
        "id": "m7IRRMdMiMtN"
      },
      "outputs": [],
      "source": [
        "origin_lang = \"deu\""
      ]
    },
    {
      "cell_type": "markdown",
      "metadata": {
        "id": "rjB3SBkqn1JG"
      },
      "source": [
        "#### 1. Con Finetuning Español-Sipakapense"
      ]
    },
    {
      "cell_type": "code",
      "execution_count": null,
      "metadata": {
        "id": "8uBCVbR3obZG"
      },
      "outputs": [],
      "source": [
        "predictions_intermediate = []\n",
        "references_intermediate = []\n",
        "\n",
        "print(f\"\\n🔹 Traduciendo: {origin_lang} → Español → Sipakapense\\n\")\n",
        "\n",
        "for item in tqdm(en_qum_dataset[\"test\"]):\n",
        "    input_text = item[\"input\"]\n",
        "    reference = item[\"target\"]\n",
        "\n",
        "    # Paso 1: origin_lang → español\n",
        "    inter = translate_text(finetune_model, finetune_tokenizer, input_text, f\"{origin_lang}_Latn\", \"spa_Latn\")\n",
        "\n",
        "    # Paso 2: español → \"Sipakapense\"\n",
        "    pred = translate_text(finetune_model, finetune_tokenizer, inter, \"spa_Latn\", \"qum\")\n",
        "\n",
        "    predictions_intermediate.append(pred)\n",
        "    references_intermediate.append(reference)"
      ]
    },
    {
      "cell_type": "code",
      "execution_count": null,
      "metadata": {
        "id": "qVv0v6pUvm-e"
      },
      "outputs": [],
      "source": [
        "clean_pred_intermediate = [pred.removeprefix(\"qum\").strip() for pred in predictions_intermediate]"
      ]
    },
    {
      "cell_type": "code",
      "execution_count": null,
      "metadata": {
        "id": "X2roPLoJoy2L"
      },
      "outputs": [],
      "source": [
        "print(\"\\n=== Ejemplos Fine-Tuned ===\\n\")\n",
        "for i in range(5):\n",
        "    print(f\"> Entrada:     {en_qum_dataset['test'][i]['input']}\")\n",
        "    print(f\"> Referencia:  {en_qum_dataset['test'][i]['target']}\")\n",
        "    print(f\"> Predicción:  {clean_pred_intermediate[i]}\\n\")"
      ]
    },
    {
      "cell_type": "code",
      "execution_count": null,
      "metadata": {
        "id": "DcM-8kilozFz"
      },
      "outputs": [],
      "source": [
        "bleu_score = bleu.compute(predictions=clean_pred_intermediate, references=[[ref] for ref in references_intermediate])\n",
        "\n",
        "print(\"\\n=== Métricas BLEU ===\")\n",
        "print(f\"BLEU-1: {bleu_score['precisions'][0]*100:.2f}\")\n",
        "print(f\"BLEU-2: {bleu_score['precisions'][1]*100:.2f}\")\n",
        "print(f\"BLEU-3: {bleu_score['precisions'][2]*100:.2f}\")\n",
        "print(f\"BLEU-4: {bleu_score['precisions'][3]*100:.2f}\")\n",
        "print(f\"BLEU total: {bleu_score['bleu']*100:.2f}\")\n",
        "\n",
        "rouge_score = rouge.compute(predictions=clean_pred_intermediate, references=references_intermediate)\n",
        "\n",
        "print(\"\\n=== Métricas ROUGE ===\")\n",
        "print(f\"ROUGE-1:   {rouge_score['rouge1']*100:.2f}\")\n",
        "print(f\"ROUGE-2:   {rouge_score['rouge2']*100:.2f}\")\n",
        "print(f\"ROUGE-L:   {rouge_score['rougeL']*100:.2f}\")\n",
        "print(f\"ROUGE-Lsum:{rouge_score['rougeLsum']*100:.2f}\")\n",
        "\n",
        "meteor_score = meteor.compute(predictions=clean_pred_intermediate, references=references_intermediate)\n",
        "\n",
        "print(\"\\n=== Otras Métricas ===\")\n",
        "print(f\"METEOR:     {meteor_score['meteor']*100:.2f}\")"
      ]
    },
    {
      "cell_type": "code",
      "execution_count": null,
      "metadata": {
        "id": "-MTsr6mJBWrm"
      },
      "outputs": [],
      "source": [
        "with open(f\"results_{lang}_qum_finetune_intermediate.tsv\", \"w\", encoding=\"utf-8\", newline=\"\") as f:\n",
        "    writer = csv.writer(f, delimiter=\"\\t\")\n",
        "    writer.writerow([\"input\", \"reference\", \"prediction\"])\n",
        "\n",
        "    for example, pred, ref in zip(es_qum_dataset[\"test\"], predictions_intermediate, references_intermediate):\n",
        "        writer.writerow([example[\"input\"], ref, pred])\n",
        "\n",
        "print(\"✅ Resultados guardados en 'results_es_qum_finetune_intermediate.tsv'\")"
      ]
    },
    {
      "cell_type": "markdown",
      "metadata": {
        "id": "y_UFY-dToFsb"
      },
      "source": [
        "#### 2. Con Finetuning Portugues-Sipakapense"
      ]
    },
    {
      "cell_type": "code",
      "source": [
        "finetune_model = en_qum_model\n",
        "finetune_tokenizer = en_qum_tokenizer\n",
        "\n",
        "finetune_model.save_pretrained(\"./qlora_finetuned_model_deu_quc_nllb\")\n",
        "finetune_tokenizer.save_pretrained(\"./qlora_finetuned_model_deu_quc_nllb\")"
      ],
      "metadata": {
        "colab": {
          "base_uri": "https://localhost:8080/"
        },
        "id": "RCLhcjT-aUtA",
        "outputId": "54d0b36e-335a-4d85-c522-e86f7e843b76"
      },
      "execution_count": 16,
      "outputs": [
        {
          "output_type": "stream",
          "name": "stderr",
          "text": [
            "/usr/local/lib/python3.11/dist-packages/peft/utils/save_and_load.py:252: UserWarning: Setting `save_embedding_layers` to `True` as the embedding layer has been resized during finetuning.\n",
            "  warnings.warn(\n"
          ]
        },
        {
          "output_type": "execute_result",
          "data": {
            "text/plain": [
              "('./qlora_finetuned_model_deu_quc_nllb/tokenizer_config.json',\n",
              " './qlora_finetuned_model_deu_quc_nllb/special_tokens_map.json',\n",
              " './qlora_finetuned_model_deu_quc_nllb/sentencepiece.bpe.model',\n",
              " './qlora_finetuned_model_deu_quc_nllb/added_tokens.json',\n",
              " './qlora_finetuned_model_deu_quc_nllb/tokenizer.json')"
            ]
          },
          "metadata": {},
          "execution_count": 16
        }
      ]
    },
    {
      "cell_type": "code",
      "execution_count": 17,
      "metadata": {
        "id": "c0UrnNGqobuo",
        "colab": {
          "base_uri": "https://localhost:8080/"
        },
        "outputId": "2bbecc07-e556-45aa-bd4e-ac290d17e0c7"
      },
      "outputs": [
        {
          "output_type": "stream",
          "name": "stdout",
          "text": [
            "\n",
            "🔹 Traduciendo: deu → Sipakapense\n",
            "\n"
          ]
        },
        {
          "output_type": "stream",
          "name": "stderr",
          "text": [
            "100%|██████████| 321/321 [08:39<00:00,  1.62s/it]\n"
          ]
        }
      ],
      "source": [
        "predictions_direct = []\n",
        "references_direct = []\n",
        "\n",
        "print(f\"\\n🔹 Traduciendo: {origin_lang} → Sipakapense\\n\")\n",
        "\n",
        "for item in tqdm(en_qum_dataset[\"test\"]):\n",
        "    input_text = item[\"input\"]\n",
        "    reference = item[\"target\"]\n",
        "\n",
        "    pred = translate_text(finetune_model, finetune_tokenizer, input_text, f\"{origin_lang}_Latn\", \"qum\")\n",
        "\n",
        "    predictions_direct.append(pred)\n",
        "    references_direct.append(reference)"
      ]
    },
    {
      "cell_type": "code",
      "execution_count": 18,
      "metadata": {
        "id": "chF42cMCu0k2"
      },
      "outputs": [],
      "source": [
        "clean_pred_direct = [pred.removeprefix(\"qum\").strip() for pred in predictions_direct]"
      ]
    },
    {
      "cell_type": "code",
      "execution_count": 19,
      "metadata": {
        "id": "WGGj_XKctmn9",
        "colab": {
          "base_uri": "https://localhost:8080/"
        },
        "outputId": "9355892b-6a24-47b0-fd56-9f5ae1a7038c"
      },
      "outputs": [
        {
          "output_type": "stream",
          "name": "stdout",
          "text": [
            "\n",
            "=== Ejemplos Fine-Tuned ===\n",
            "\n",
            "> Entrada:     #qum# Don Jesus' Frau benutzt nur gutes Holz.\n",
            "> Referencia:  wu rxqiil taʼ xuux xaq utz laj siʼ kchuknik chre\n",
            "> Predicción:  , and the other side is a right-hander than a right-hander.\n",
            "\n",
            "> Entrada:     #qum# Die ganze Pflaume ist weg.\n",
            "> Referencia:  Njeel ri xkarawaʼn xpochʼik rech chenim xchaqʼjik\n",
            "> Predicción:  's all that is left of the earth.\n",
            "\n",
            "> Entrada:     #qum# In unserem Dorf wird unsere Sprache nicht mehr gesprochen\n",
            "> Referencia:  Pri qtinmit qal chik kchkunsxik ri qyolbʼaal\n",
            "> Predicción:  in our village our language is no longer spoken\n",
            "\n",
            "> Entrada:     #qum# Der Schüler lernt, wie\n",
            "> Referencia:  Ri ajtijnel tjin kirtijuuj c hemo rchkunsxik ri suʼ\n",
            "> Predicción:  ate, and the student learns how to\n",
            "\n",
            "> Entrada:     #qum# Die Frau war von ihrem Mann umarmt.\n",
            "> Referencia:  Ri ixoq tzʼulmaj rum ri rchjiil\n",
            "> Predicción:  , the woman was in the arms of her husband.\n",
            "\n"
          ]
        }
      ],
      "source": [
        "print(\"\\n=== Ejemplos Fine-Tuned ===\\n\")\n",
        "for i in range(5):\n",
        "    print(f\"> Entrada:     {en_qum_dataset['test'][i]['input']}\")\n",
        "    print(f\"> Referencia:  {en_qum_dataset['test'][i]['target']}\")\n",
        "    print(f\"> Predicción:  {clean_pred_direct[i]}\\n\")"
      ]
    },
    {
      "cell_type": "code",
      "execution_count": 21,
      "metadata": {
        "id": "uNuiAUOytvUu",
        "colab": {
          "base_uri": "https://localhost:8080/"
        },
        "outputId": "284606a3-b7f1-4dc7-c024-e5a62fb59f63"
      },
      "outputs": [
        {
          "output_type": "stream",
          "name": "stdout",
          "text": [
            "\n",
            "=== Métricas BLEU ===\n",
            "BLEU-1: 0.00\n",
            "BLEU-2: 0.00\n",
            "BLEU-3: 0.00\n",
            "BLEU-4: 0.00\n",
            "BLEU total: 0.00\n",
            "\n",
            "=== Métricas ROUGE ===\n",
            "ROUGE-1:   0.34\n",
            "ROUGE-2:   0.00\n",
            "ROUGE-L:   0.33\n",
            "ROUGE-Lsum:0.34\n",
            "\n",
            "=== Otras Métricas ===\n",
            "METEOR:     0.02\n"
          ]
        }
      ],
      "source": [
        "bleu_score = bleu.compute(predictions=clean_pred_direct, references=[[ref] for ref in references_direct])\n",
        "\n",
        "print(\"\\n=== Métricas BLEU ===\")\n",
        "print(f\"BLEU-1: {bleu_score['precisions'][0]*100:.2f}\")\n",
        "print(f\"BLEU-2: {bleu_score['precisions'][1]*100:.2f}\")\n",
        "print(f\"BLEU-3: {bleu_score['precisions'][2]*100:.2f}\")\n",
        "print(f\"BLEU-4: {bleu_score['precisions'][3]*100:.2f}\")\n",
        "print(f\"BLEU total: {bleu_score['bleu']*100:.2f}\")\n",
        "\n",
        "rouge_score = rouge.compute(predictions=clean_pred_direct, references=references_direct)\n",
        "\n",
        "print(\"\\n=== Métricas ROUGE ===\")\n",
        "print(f\"ROUGE-1:   {rouge_score['rouge1']*100:.2f}\")\n",
        "print(f\"ROUGE-2:   {rouge_score['rouge2']*100:.2f}\")\n",
        "print(f\"ROUGE-L:   {rouge_score['rougeL']*100:.2f}\")\n",
        "print(f\"ROUGE-Lsum:{rouge_score['rougeLsum']*100:.2f}\")\n",
        "\n",
        "meteor_score = meteor.compute(predictions=clean_pred_direct, references=references_direct)\n",
        "\n",
        "print(\"\\n=== Otras Métricas ===\")\n",
        "print(f\"METEOR:     {meteor_score['meteor']*100:.2f}\")"
      ]
    },
    {
      "cell_type": "code",
      "execution_count": 22,
      "metadata": {
        "id": "2o0_ZKITBrRf",
        "colab": {
          "base_uri": "https://localhost:8080/"
        },
        "outputId": "ac75b503-2dae-4d53-a3ae-959903a290dc"
      },
      "outputs": [
        {
          "output_type": "stream",
          "name": "stdout",
          "text": [
            "✅ Resultados guardados en 'results_de_qum_finetune_direct.tsv'\n"
          ]
        }
      ],
      "source": [
        "filename = f\"results_{lang}_qum_finetune_direct.tsv\"\n",
        "with open(filename, \"w\", encoding=\"utf-8\", newline=\"\") as f:\n",
        "    writer = csv.writer(f, delimiter=\"\\t\")\n",
        "    writer.writerow([\"input\", \"reference\", \"prediction\"])\n",
        "\n",
        "    for example, pred, ref in zip(es_qum_dataset[\"test\"], predictions_direct, references_direct):\n",
        "        writer.writerow([example[\"input\"], ref, pred])\n",
        "\n",
        "print(f\"✅ Resultados guardados en '{filename}'\")"
      ]
    }
  ],
  "metadata": {
    "accelerator": "GPU",
    "colab": {
      "collapsed_sections": [
        "g5rb6MT0A5mD",
        "R6AMhN2GZpNt",
        "Q5ukIdzqYhCo",
        "o6ngW-l5c1aq",
        "qjWCp3bkc27u",
        "dazLUZlhKKHk",
        "tc2QH1HJcuKn",
        "U9jCIC05CCG_",
        "coKh9lECcw45",
        "ljNvMeB3ezyA",
        "rjB3SBkqn1JG",
        "y_UFY-dToFsb",
        "fCaQTajaoPyr"
      ],
      "gpuType": "T4",
      "provenance": []
    },
    "kernelspec": {
      "display_name": "Python 3",
      "name": "python3"
    },
    "language_info": {
      "name": "python"
    },
    "widgets": {
      "application/vnd.jupyter.widget-state+json": {
        "7e974505756342bdaa9129190a442e75": {
          "model_module": "@jupyter-widgets/controls",
          "model_name": "HBoxModel",
          "model_module_version": "1.5.0",
          "state": {
            "_dom_classes": [],
            "_model_module": "@jupyter-widgets/controls",
            "_model_module_version": "1.5.0",
            "_model_name": "HBoxModel",
            "_view_count": null,
            "_view_module": "@jupyter-widgets/controls",
            "_view_module_version": "1.5.0",
            "_view_name": "HBoxView",
            "box_style": "",
            "children": [
              "IPY_MODEL_ec5dd35c027a4cbc8eddaa57ec81a57e",
              "IPY_MODEL_ea21c535891c4f3281edb01580fbe223",
              "IPY_MODEL_de205eb254c54e179465526a66a0346f"
            ],
            "layout": "IPY_MODEL_3ee6a14db43b4b93a0711022bc7f340b"
          }
        },
        "ec5dd35c027a4cbc8eddaa57ec81a57e": {
          "model_module": "@jupyter-widgets/controls",
          "model_name": "HTMLModel",
          "model_module_version": "1.5.0",
          "state": {
            "_dom_classes": [],
            "_model_module": "@jupyter-widgets/controls",
            "_model_module_version": "1.5.0",
            "_model_name": "HTMLModel",
            "_view_count": null,
            "_view_module": "@jupyter-widgets/controls",
            "_view_module_version": "1.5.0",
            "_view_name": "HTMLView",
            "description": "",
            "description_tooltip": null,
            "layout": "IPY_MODEL_5c63cd94e96640f993d7b7c2eff38bad",
            "placeholder": "​",
            "style": "IPY_MODEL_2f9eed0e883348c7be18be8573db52c9",
            "value": "Map: 100%"
          }
        },
        "ea21c535891c4f3281edb01580fbe223": {
          "model_module": "@jupyter-widgets/controls",
          "model_name": "FloatProgressModel",
          "model_module_version": "1.5.0",
          "state": {
            "_dom_classes": [],
            "_model_module": "@jupyter-widgets/controls",
            "_model_module_version": "1.5.0",
            "_model_name": "FloatProgressModel",
            "_view_count": null,
            "_view_module": "@jupyter-widgets/controls",
            "_view_module_version": "1.5.0",
            "_view_name": "ProgressView",
            "bar_style": "success",
            "description": "",
            "description_tooltip": null,
            "layout": "IPY_MODEL_99c965c00733460eb7e9aa5312efe099",
            "max": 1000,
            "min": 0,
            "orientation": "horizontal",
            "style": "IPY_MODEL_0be68fb831dd4168b8134d4a6c9d0ed2",
            "value": 1000
          }
        },
        "de205eb254c54e179465526a66a0346f": {
          "model_module": "@jupyter-widgets/controls",
          "model_name": "HTMLModel",
          "model_module_version": "1.5.0",
          "state": {
            "_dom_classes": [],
            "_model_module": "@jupyter-widgets/controls",
            "_model_module_version": "1.5.0",
            "_model_name": "HTMLModel",
            "_view_count": null,
            "_view_module": "@jupyter-widgets/controls",
            "_view_module_version": "1.5.0",
            "_view_name": "HTMLView",
            "description": "",
            "description_tooltip": null,
            "layout": "IPY_MODEL_1c4281ecdfbe4b0f806c9524c667419b",
            "placeholder": "​",
            "style": "IPY_MODEL_5fcd0543126849bdb8fa02e5e2ef3b3b",
            "value": " 1000/1000 [00:00&lt;00:00, 3673.25 examples/s]"
          }
        },
        "3ee6a14db43b4b93a0711022bc7f340b": {
          "model_module": "@jupyter-widgets/base",
          "model_name": "LayoutModel",
          "model_module_version": "1.2.0",
          "state": {
            "_model_module": "@jupyter-widgets/base",
            "_model_module_version": "1.2.0",
            "_model_name": "LayoutModel",
            "_view_count": null,
            "_view_module": "@jupyter-widgets/base",
            "_view_module_version": "1.2.0",
            "_view_name": "LayoutView",
            "align_content": null,
            "align_items": null,
            "align_self": null,
            "border": null,
            "bottom": null,
            "display": null,
            "flex": null,
            "flex_flow": null,
            "grid_area": null,
            "grid_auto_columns": null,
            "grid_auto_flow": null,
            "grid_auto_rows": null,
            "grid_column": null,
            "grid_gap": null,
            "grid_row": null,
            "grid_template_areas": null,
            "grid_template_columns": null,
            "grid_template_rows": null,
            "height": null,
            "justify_content": null,
            "justify_items": null,
            "left": null,
            "margin": null,
            "max_height": null,
            "max_width": null,
            "min_height": null,
            "min_width": null,
            "object_fit": null,
            "object_position": null,
            "order": null,
            "overflow": null,
            "overflow_x": null,
            "overflow_y": null,
            "padding": null,
            "right": null,
            "top": null,
            "visibility": null,
            "width": null
          }
        },
        "5c63cd94e96640f993d7b7c2eff38bad": {
          "model_module": "@jupyter-widgets/base",
          "model_name": "LayoutModel",
          "model_module_version": "1.2.0",
          "state": {
            "_model_module": "@jupyter-widgets/base",
            "_model_module_version": "1.2.0",
            "_model_name": "LayoutModel",
            "_view_count": null,
            "_view_module": "@jupyter-widgets/base",
            "_view_module_version": "1.2.0",
            "_view_name": "LayoutView",
            "align_content": null,
            "align_items": null,
            "align_self": null,
            "border": null,
            "bottom": null,
            "display": null,
            "flex": null,
            "flex_flow": null,
            "grid_area": null,
            "grid_auto_columns": null,
            "grid_auto_flow": null,
            "grid_auto_rows": null,
            "grid_column": null,
            "grid_gap": null,
            "grid_row": null,
            "grid_template_areas": null,
            "grid_template_columns": null,
            "grid_template_rows": null,
            "height": null,
            "justify_content": null,
            "justify_items": null,
            "left": null,
            "margin": null,
            "max_height": null,
            "max_width": null,
            "min_height": null,
            "min_width": null,
            "object_fit": null,
            "object_position": null,
            "order": null,
            "overflow": null,
            "overflow_x": null,
            "overflow_y": null,
            "padding": null,
            "right": null,
            "top": null,
            "visibility": null,
            "width": null
          }
        },
        "2f9eed0e883348c7be18be8573db52c9": {
          "model_module": "@jupyter-widgets/controls",
          "model_name": "DescriptionStyleModel",
          "model_module_version": "1.5.0",
          "state": {
            "_model_module": "@jupyter-widgets/controls",
            "_model_module_version": "1.5.0",
            "_model_name": "DescriptionStyleModel",
            "_view_count": null,
            "_view_module": "@jupyter-widgets/base",
            "_view_module_version": "1.2.0",
            "_view_name": "StyleView",
            "description_width": ""
          }
        },
        "99c965c00733460eb7e9aa5312efe099": {
          "model_module": "@jupyter-widgets/base",
          "model_name": "LayoutModel",
          "model_module_version": "1.2.0",
          "state": {
            "_model_module": "@jupyter-widgets/base",
            "_model_module_version": "1.2.0",
            "_model_name": "LayoutModel",
            "_view_count": null,
            "_view_module": "@jupyter-widgets/base",
            "_view_module_version": "1.2.0",
            "_view_name": "LayoutView",
            "align_content": null,
            "align_items": null,
            "align_self": null,
            "border": null,
            "bottom": null,
            "display": null,
            "flex": null,
            "flex_flow": null,
            "grid_area": null,
            "grid_auto_columns": null,
            "grid_auto_flow": null,
            "grid_auto_rows": null,
            "grid_column": null,
            "grid_gap": null,
            "grid_row": null,
            "grid_template_areas": null,
            "grid_template_columns": null,
            "grid_template_rows": null,
            "height": null,
            "justify_content": null,
            "justify_items": null,
            "left": null,
            "margin": null,
            "max_height": null,
            "max_width": null,
            "min_height": null,
            "min_width": null,
            "object_fit": null,
            "object_position": null,
            "order": null,
            "overflow": null,
            "overflow_x": null,
            "overflow_y": null,
            "padding": null,
            "right": null,
            "top": null,
            "visibility": null,
            "width": null
          }
        },
        "0be68fb831dd4168b8134d4a6c9d0ed2": {
          "model_module": "@jupyter-widgets/controls",
          "model_name": "ProgressStyleModel",
          "model_module_version": "1.5.0",
          "state": {
            "_model_module": "@jupyter-widgets/controls",
            "_model_module_version": "1.5.0",
            "_model_name": "ProgressStyleModel",
            "_view_count": null,
            "_view_module": "@jupyter-widgets/base",
            "_view_module_version": "1.2.0",
            "_view_name": "StyleView",
            "bar_color": null,
            "description_width": ""
          }
        },
        "1c4281ecdfbe4b0f806c9524c667419b": {
          "model_module": "@jupyter-widgets/base",
          "model_name": "LayoutModel",
          "model_module_version": "1.2.0",
          "state": {
            "_model_module": "@jupyter-widgets/base",
            "_model_module_version": "1.2.0",
            "_model_name": "LayoutModel",
            "_view_count": null,
            "_view_module": "@jupyter-widgets/base",
            "_view_module_version": "1.2.0",
            "_view_name": "LayoutView",
            "align_content": null,
            "align_items": null,
            "align_self": null,
            "border": null,
            "bottom": null,
            "display": null,
            "flex": null,
            "flex_flow": null,
            "grid_area": null,
            "grid_auto_columns": null,
            "grid_auto_flow": null,
            "grid_auto_rows": null,
            "grid_column": null,
            "grid_gap": null,
            "grid_row": null,
            "grid_template_areas": null,
            "grid_template_columns": null,
            "grid_template_rows": null,
            "height": null,
            "justify_content": null,
            "justify_items": null,
            "left": null,
            "margin": null,
            "max_height": null,
            "max_width": null,
            "min_height": null,
            "min_width": null,
            "object_fit": null,
            "object_position": null,
            "order": null,
            "overflow": null,
            "overflow_x": null,
            "overflow_y": null,
            "padding": null,
            "right": null,
            "top": null,
            "visibility": null,
            "width": null
          }
        },
        "5fcd0543126849bdb8fa02e5e2ef3b3b": {
          "model_module": "@jupyter-widgets/controls",
          "model_name": "DescriptionStyleModel",
          "model_module_version": "1.5.0",
          "state": {
            "_model_module": "@jupyter-widgets/controls",
            "_model_module_version": "1.5.0",
            "_model_name": "DescriptionStyleModel",
            "_view_count": null,
            "_view_module": "@jupyter-widgets/base",
            "_view_module_version": "1.2.0",
            "_view_name": "StyleView",
            "description_width": ""
          }
        },
        "48ffc9bf7e2547c099122f7396153e00": {
          "model_module": "@jupyter-widgets/controls",
          "model_name": "HBoxModel",
          "model_module_version": "1.5.0",
          "state": {
            "_dom_classes": [],
            "_model_module": "@jupyter-widgets/controls",
            "_model_module_version": "1.5.0",
            "_model_name": "HBoxModel",
            "_view_count": null,
            "_view_module": "@jupyter-widgets/controls",
            "_view_module_version": "1.5.0",
            "_view_name": "HBoxView",
            "box_style": "",
            "children": [
              "IPY_MODEL_2d700ab05e4b415b9157f1ee5be8b601",
              "IPY_MODEL_628dcc7cb0d04a8b84d76bd70c4ebc05",
              "IPY_MODEL_1bc42053f3144d0cb5e10f1bc0f7dd77"
            ],
            "layout": "IPY_MODEL_a2ab2f041dbb4fd0b08e946d7318c59f"
          }
        },
        "2d700ab05e4b415b9157f1ee5be8b601": {
          "model_module": "@jupyter-widgets/controls",
          "model_name": "HTMLModel",
          "model_module_version": "1.5.0",
          "state": {
            "_dom_classes": [],
            "_model_module": "@jupyter-widgets/controls",
            "_model_module_version": "1.5.0",
            "_model_name": "HTMLModel",
            "_view_count": null,
            "_view_module": "@jupyter-widgets/controls",
            "_view_module_version": "1.5.0",
            "_view_name": "HTMLView",
            "description": "",
            "description_tooltip": null,
            "layout": "IPY_MODEL_e45ef5c4b68c40b394e380f97c962fa5",
            "placeholder": "​",
            "style": "IPY_MODEL_d3e4c87c3f914e6db214f1722b32d5c3",
            "value": "Map: 100%"
          }
        },
        "628dcc7cb0d04a8b84d76bd70c4ebc05": {
          "model_module": "@jupyter-widgets/controls",
          "model_name": "FloatProgressModel",
          "model_module_version": "1.5.0",
          "state": {
            "_dom_classes": [],
            "_model_module": "@jupyter-widgets/controls",
            "_model_module_version": "1.5.0",
            "_model_name": "FloatProgressModel",
            "_view_count": null,
            "_view_module": "@jupyter-widgets/controls",
            "_view_module_version": "1.5.0",
            "_view_name": "ProgressView",
            "bar_style": "success",
            "description": "",
            "description_tooltip": null,
            "layout": "IPY_MODEL_83f272cc4f9c4770b2b21fac5e26423a",
            "max": 321,
            "min": 0,
            "orientation": "horizontal",
            "style": "IPY_MODEL_fedb7a7474564fb8ba301273e3f4448e",
            "value": 321
          }
        },
        "1bc42053f3144d0cb5e10f1bc0f7dd77": {
          "model_module": "@jupyter-widgets/controls",
          "model_name": "HTMLModel",
          "model_module_version": "1.5.0",
          "state": {
            "_dom_classes": [],
            "_model_module": "@jupyter-widgets/controls",
            "_model_module_version": "1.5.0",
            "_model_name": "HTMLModel",
            "_view_count": null,
            "_view_module": "@jupyter-widgets/controls",
            "_view_module_version": "1.5.0",
            "_view_name": "HTMLView",
            "description": "",
            "description_tooltip": null,
            "layout": "IPY_MODEL_ca1624f08f9c4e8d80af2505045611d4",
            "placeholder": "​",
            "style": "IPY_MODEL_127c6a607d3a4d89a87ae364166556be",
            "value": " 321/321 [00:00&lt;00:00, 3379.43 examples/s]"
          }
        },
        "a2ab2f041dbb4fd0b08e946d7318c59f": {
          "model_module": "@jupyter-widgets/base",
          "model_name": "LayoutModel",
          "model_module_version": "1.2.0",
          "state": {
            "_model_module": "@jupyter-widgets/base",
            "_model_module_version": "1.2.0",
            "_model_name": "LayoutModel",
            "_view_count": null,
            "_view_module": "@jupyter-widgets/base",
            "_view_module_version": "1.2.0",
            "_view_name": "LayoutView",
            "align_content": null,
            "align_items": null,
            "align_self": null,
            "border": null,
            "bottom": null,
            "display": null,
            "flex": null,
            "flex_flow": null,
            "grid_area": null,
            "grid_auto_columns": null,
            "grid_auto_flow": null,
            "grid_auto_rows": null,
            "grid_column": null,
            "grid_gap": null,
            "grid_row": null,
            "grid_template_areas": null,
            "grid_template_columns": null,
            "grid_template_rows": null,
            "height": null,
            "justify_content": null,
            "justify_items": null,
            "left": null,
            "margin": null,
            "max_height": null,
            "max_width": null,
            "min_height": null,
            "min_width": null,
            "object_fit": null,
            "object_position": null,
            "order": null,
            "overflow": null,
            "overflow_x": null,
            "overflow_y": null,
            "padding": null,
            "right": null,
            "top": null,
            "visibility": null,
            "width": null
          }
        },
        "e45ef5c4b68c40b394e380f97c962fa5": {
          "model_module": "@jupyter-widgets/base",
          "model_name": "LayoutModel",
          "model_module_version": "1.2.0",
          "state": {
            "_model_module": "@jupyter-widgets/base",
            "_model_module_version": "1.2.0",
            "_model_name": "LayoutModel",
            "_view_count": null,
            "_view_module": "@jupyter-widgets/base",
            "_view_module_version": "1.2.0",
            "_view_name": "LayoutView",
            "align_content": null,
            "align_items": null,
            "align_self": null,
            "border": null,
            "bottom": null,
            "display": null,
            "flex": null,
            "flex_flow": null,
            "grid_area": null,
            "grid_auto_columns": null,
            "grid_auto_flow": null,
            "grid_auto_rows": null,
            "grid_column": null,
            "grid_gap": null,
            "grid_row": null,
            "grid_template_areas": null,
            "grid_template_columns": null,
            "grid_template_rows": null,
            "height": null,
            "justify_content": null,
            "justify_items": null,
            "left": null,
            "margin": null,
            "max_height": null,
            "max_width": null,
            "min_height": null,
            "min_width": null,
            "object_fit": null,
            "object_position": null,
            "order": null,
            "overflow": null,
            "overflow_x": null,
            "overflow_y": null,
            "padding": null,
            "right": null,
            "top": null,
            "visibility": null,
            "width": null
          }
        },
        "d3e4c87c3f914e6db214f1722b32d5c3": {
          "model_module": "@jupyter-widgets/controls",
          "model_name": "DescriptionStyleModel",
          "model_module_version": "1.5.0",
          "state": {
            "_model_module": "@jupyter-widgets/controls",
            "_model_module_version": "1.5.0",
            "_model_name": "DescriptionStyleModel",
            "_view_count": null,
            "_view_module": "@jupyter-widgets/base",
            "_view_module_version": "1.2.0",
            "_view_name": "StyleView",
            "description_width": ""
          }
        },
        "83f272cc4f9c4770b2b21fac5e26423a": {
          "model_module": "@jupyter-widgets/base",
          "model_name": "LayoutModel",
          "model_module_version": "1.2.0",
          "state": {
            "_model_module": "@jupyter-widgets/base",
            "_model_module_version": "1.2.0",
            "_model_name": "LayoutModel",
            "_view_count": null,
            "_view_module": "@jupyter-widgets/base",
            "_view_module_version": "1.2.0",
            "_view_name": "LayoutView",
            "align_content": null,
            "align_items": null,
            "align_self": null,
            "border": null,
            "bottom": null,
            "display": null,
            "flex": null,
            "flex_flow": null,
            "grid_area": null,
            "grid_auto_columns": null,
            "grid_auto_flow": null,
            "grid_auto_rows": null,
            "grid_column": null,
            "grid_gap": null,
            "grid_row": null,
            "grid_template_areas": null,
            "grid_template_columns": null,
            "grid_template_rows": null,
            "height": null,
            "justify_content": null,
            "justify_items": null,
            "left": null,
            "margin": null,
            "max_height": null,
            "max_width": null,
            "min_height": null,
            "min_width": null,
            "object_fit": null,
            "object_position": null,
            "order": null,
            "overflow": null,
            "overflow_x": null,
            "overflow_y": null,
            "padding": null,
            "right": null,
            "top": null,
            "visibility": null,
            "width": null
          }
        },
        "fedb7a7474564fb8ba301273e3f4448e": {
          "model_module": "@jupyter-widgets/controls",
          "model_name": "ProgressStyleModel",
          "model_module_version": "1.5.0",
          "state": {
            "_model_module": "@jupyter-widgets/controls",
            "_model_module_version": "1.5.0",
            "_model_name": "ProgressStyleModel",
            "_view_count": null,
            "_view_module": "@jupyter-widgets/base",
            "_view_module_version": "1.2.0",
            "_view_name": "StyleView",
            "bar_color": null,
            "description_width": ""
          }
        },
        "ca1624f08f9c4e8d80af2505045611d4": {
          "model_module": "@jupyter-widgets/base",
          "model_name": "LayoutModel",
          "model_module_version": "1.2.0",
          "state": {
            "_model_module": "@jupyter-widgets/base",
            "_model_module_version": "1.2.0",
            "_model_name": "LayoutModel",
            "_view_count": null,
            "_view_module": "@jupyter-widgets/base",
            "_view_module_version": "1.2.0",
            "_view_name": "LayoutView",
            "align_content": null,
            "align_items": null,
            "align_self": null,
            "border": null,
            "bottom": null,
            "display": null,
            "flex": null,
            "flex_flow": null,
            "grid_area": null,
            "grid_auto_columns": null,
            "grid_auto_flow": null,
            "grid_auto_rows": null,
            "grid_column": null,
            "grid_gap": null,
            "grid_row": null,
            "grid_template_areas": null,
            "grid_template_columns": null,
            "grid_template_rows": null,
            "height": null,
            "justify_content": null,
            "justify_items": null,
            "left": null,
            "margin": null,
            "max_height": null,
            "max_width": null,
            "min_height": null,
            "min_width": null,
            "object_fit": null,
            "object_position": null,
            "order": null,
            "overflow": null,
            "overflow_x": null,
            "overflow_y": null,
            "padding": null,
            "right": null,
            "top": null,
            "visibility": null,
            "width": null
          }
        },
        "127c6a607d3a4d89a87ae364166556be": {
          "model_module": "@jupyter-widgets/controls",
          "model_name": "DescriptionStyleModel",
          "model_module_version": "1.5.0",
          "state": {
            "_model_module": "@jupyter-widgets/controls",
            "_model_module_version": "1.5.0",
            "_model_name": "DescriptionStyleModel",
            "_view_count": null,
            "_view_module": "@jupyter-widgets/base",
            "_view_module_version": "1.2.0",
            "_view_name": "StyleView",
            "description_width": ""
          }
        },
        "defaad35c34b44529ad633b94c648386": {
          "model_module": "@jupyter-widgets/controls",
          "model_name": "HBoxModel",
          "model_module_version": "1.5.0",
          "state": {
            "_dom_classes": [],
            "_model_module": "@jupyter-widgets/controls",
            "_model_module_version": "1.5.0",
            "_model_name": "HBoxModel",
            "_view_count": null,
            "_view_module": "@jupyter-widgets/controls",
            "_view_module_version": "1.5.0",
            "_view_name": "HBoxView",
            "box_style": "",
            "children": [
              "IPY_MODEL_98bcc29fd499436a9337afc8129a702c",
              "IPY_MODEL_a13ad405acb7418d8f8d27b826ea7fe9",
              "IPY_MODEL_428329930bc34f06b3b80c838ea10160"
            ],
            "layout": "IPY_MODEL_92809da1ec2d4b4bb657583608ddc20e"
          }
        },
        "98bcc29fd499436a9337afc8129a702c": {
          "model_module": "@jupyter-widgets/controls",
          "model_name": "HTMLModel",
          "model_module_version": "1.5.0",
          "state": {
            "_dom_classes": [],
            "_model_module": "@jupyter-widgets/controls",
            "_model_module_version": "1.5.0",
            "_model_name": "HTMLModel",
            "_view_count": null,
            "_view_module": "@jupyter-widgets/controls",
            "_view_module_version": "1.5.0",
            "_view_name": "HTMLView",
            "description": "",
            "description_tooltip": null,
            "layout": "IPY_MODEL_945063cfd1c34da8bae28b39e5a19661",
            "placeholder": "​",
            "style": "IPY_MODEL_0ebabbf85d67462680e1d9d2ae2114b1",
            "value": "Map: 100%"
          }
        },
        "a13ad405acb7418d8f8d27b826ea7fe9": {
          "model_module": "@jupyter-widgets/controls",
          "model_name": "FloatProgressModel",
          "model_module_version": "1.5.0",
          "state": {
            "_dom_classes": [],
            "_model_module": "@jupyter-widgets/controls",
            "_model_module_version": "1.5.0",
            "_model_name": "FloatProgressModel",
            "_view_count": null,
            "_view_module": "@jupyter-widgets/controls",
            "_view_module_version": "1.5.0",
            "_view_name": "ProgressView",
            "bar_style": "success",
            "description": "",
            "description_tooltip": null,
            "layout": "IPY_MODEL_879e5295284447e7b83b1af2a18739f5",
            "max": 1000,
            "min": 0,
            "orientation": "horizontal",
            "style": "IPY_MODEL_8a476a7d18e5476fb39e281fc4b0b206",
            "value": 1000
          }
        },
        "428329930bc34f06b3b80c838ea10160": {
          "model_module": "@jupyter-widgets/controls",
          "model_name": "HTMLModel",
          "model_module_version": "1.5.0",
          "state": {
            "_dom_classes": [],
            "_model_module": "@jupyter-widgets/controls",
            "_model_module_version": "1.5.0",
            "_model_name": "HTMLModel",
            "_view_count": null,
            "_view_module": "@jupyter-widgets/controls",
            "_view_module_version": "1.5.0",
            "_view_name": "HTMLView",
            "description": "",
            "description_tooltip": null,
            "layout": "IPY_MODEL_b375fa15fc654fb49972e7daafb114a6",
            "placeholder": "​",
            "style": "IPY_MODEL_3a75c6f24a0d4d9a907969603d91a367",
            "value": " 1000/1000 [00:00&lt;00:00, 5762.16 examples/s]"
          }
        },
        "92809da1ec2d4b4bb657583608ddc20e": {
          "model_module": "@jupyter-widgets/base",
          "model_name": "LayoutModel",
          "model_module_version": "1.2.0",
          "state": {
            "_model_module": "@jupyter-widgets/base",
            "_model_module_version": "1.2.0",
            "_model_name": "LayoutModel",
            "_view_count": null,
            "_view_module": "@jupyter-widgets/base",
            "_view_module_version": "1.2.0",
            "_view_name": "LayoutView",
            "align_content": null,
            "align_items": null,
            "align_self": null,
            "border": null,
            "bottom": null,
            "display": null,
            "flex": null,
            "flex_flow": null,
            "grid_area": null,
            "grid_auto_columns": null,
            "grid_auto_flow": null,
            "grid_auto_rows": null,
            "grid_column": null,
            "grid_gap": null,
            "grid_row": null,
            "grid_template_areas": null,
            "grid_template_columns": null,
            "grid_template_rows": null,
            "height": null,
            "justify_content": null,
            "justify_items": null,
            "left": null,
            "margin": null,
            "max_height": null,
            "max_width": null,
            "min_height": null,
            "min_width": null,
            "object_fit": null,
            "object_position": null,
            "order": null,
            "overflow": null,
            "overflow_x": null,
            "overflow_y": null,
            "padding": null,
            "right": null,
            "top": null,
            "visibility": null,
            "width": null
          }
        },
        "945063cfd1c34da8bae28b39e5a19661": {
          "model_module": "@jupyter-widgets/base",
          "model_name": "LayoutModel",
          "model_module_version": "1.2.0",
          "state": {
            "_model_module": "@jupyter-widgets/base",
            "_model_module_version": "1.2.0",
            "_model_name": "LayoutModel",
            "_view_count": null,
            "_view_module": "@jupyter-widgets/base",
            "_view_module_version": "1.2.0",
            "_view_name": "LayoutView",
            "align_content": null,
            "align_items": null,
            "align_self": null,
            "border": null,
            "bottom": null,
            "display": null,
            "flex": null,
            "flex_flow": null,
            "grid_area": null,
            "grid_auto_columns": null,
            "grid_auto_flow": null,
            "grid_auto_rows": null,
            "grid_column": null,
            "grid_gap": null,
            "grid_row": null,
            "grid_template_areas": null,
            "grid_template_columns": null,
            "grid_template_rows": null,
            "height": null,
            "justify_content": null,
            "justify_items": null,
            "left": null,
            "margin": null,
            "max_height": null,
            "max_width": null,
            "min_height": null,
            "min_width": null,
            "object_fit": null,
            "object_position": null,
            "order": null,
            "overflow": null,
            "overflow_x": null,
            "overflow_y": null,
            "padding": null,
            "right": null,
            "top": null,
            "visibility": null,
            "width": null
          }
        },
        "0ebabbf85d67462680e1d9d2ae2114b1": {
          "model_module": "@jupyter-widgets/controls",
          "model_name": "DescriptionStyleModel",
          "model_module_version": "1.5.0",
          "state": {
            "_model_module": "@jupyter-widgets/controls",
            "_model_module_version": "1.5.0",
            "_model_name": "DescriptionStyleModel",
            "_view_count": null,
            "_view_module": "@jupyter-widgets/base",
            "_view_module_version": "1.2.0",
            "_view_name": "StyleView",
            "description_width": ""
          }
        },
        "879e5295284447e7b83b1af2a18739f5": {
          "model_module": "@jupyter-widgets/base",
          "model_name": "LayoutModel",
          "model_module_version": "1.2.0",
          "state": {
            "_model_module": "@jupyter-widgets/base",
            "_model_module_version": "1.2.0",
            "_model_name": "LayoutModel",
            "_view_count": null,
            "_view_module": "@jupyter-widgets/base",
            "_view_module_version": "1.2.0",
            "_view_name": "LayoutView",
            "align_content": null,
            "align_items": null,
            "align_self": null,
            "border": null,
            "bottom": null,
            "display": null,
            "flex": null,
            "flex_flow": null,
            "grid_area": null,
            "grid_auto_columns": null,
            "grid_auto_flow": null,
            "grid_auto_rows": null,
            "grid_column": null,
            "grid_gap": null,
            "grid_row": null,
            "grid_template_areas": null,
            "grid_template_columns": null,
            "grid_template_rows": null,
            "height": null,
            "justify_content": null,
            "justify_items": null,
            "left": null,
            "margin": null,
            "max_height": null,
            "max_width": null,
            "min_height": null,
            "min_width": null,
            "object_fit": null,
            "object_position": null,
            "order": null,
            "overflow": null,
            "overflow_x": null,
            "overflow_y": null,
            "padding": null,
            "right": null,
            "top": null,
            "visibility": null,
            "width": null
          }
        },
        "8a476a7d18e5476fb39e281fc4b0b206": {
          "model_module": "@jupyter-widgets/controls",
          "model_name": "ProgressStyleModel",
          "model_module_version": "1.5.0",
          "state": {
            "_model_module": "@jupyter-widgets/controls",
            "_model_module_version": "1.5.0",
            "_model_name": "ProgressStyleModel",
            "_view_count": null,
            "_view_module": "@jupyter-widgets/base",
            "_view_module_version": "1.2.0",
            "_view_name": "StyleView",
            "bar_color": null,
            "description_width": ""
          }
        },
        "b375fa15fc654fb49972e7daafb114a6": {
          "model_module": "@jupyter-widgets/base",
          "model_name": "LayoutModel",
          "model_module_version": "1.2.0",
          "state": {
            "_model_module": "@jupyter-widgets/base",
            "_model_module_version": "1.2.0",
            "_model_name": "LayoutModel",
            "_view_count": null,
            "_view_module": "@jupyter-widgets/base",
            "_view_module_version": "1.2.0",
            "_view_name": "LayoutView",
            "align_content": null,
            "align_items": null,
            "align_self": null,
            "border": null,
            "bottom": null,
            "display": null,
            "flex": null,
            "flex_flow": null,
            "grid_area": null,
            "grid_auto_columns": null,
            "grid_auto_flow": null,
            "grid_auto_rows": null,
            "grid_column": null,
            "grid_gap": null,
            "grid_row": null,
            "grid_template_areas": null,
            "grid_template_columns": null,
            "grid_template_rows": null,
            "height": null,
            "justify_content": null,
            "justify_items": null,
            "left": null,
            "margin": null,
            "max_height": null,
            "max_width": null,
            "min_height": null,
            "min_width": null,
            "object_fit": null,
            "object_position": null,
            "order": null,
            "overflow": null,
            "overflow_x": null,
            "overflow_y": null,
            "padding": null,
            "right": null,
            "top": null,
            "visibility": null,
            "width": null
          }
        },
        "3a75c6f24a0d4d9a907969603d91a367": {
          "model_module": "@jupyter-widgets/controls",
          "model_name": "DescriptionStyleModel",
          "model_module_version": "1.5.0",
          "state": {
            "_model_module": "@jupyter-widgets/controls",
            "_model_module_version": "1.5.0",
            "_model_name": "DescriptionStyleModel",
            "_view_count": null,
            "_view_module": "@jupyter-widgets/base",
            "_view_module_version": "1.2.0",
            "_view_name": "StyleView",
            "description_width": ""
          }
        },
        "2b19cdfca8954c6da05296a2bff6eefe": {
          "model_module": "@jupyter-widgets/controls",
          "model_name": "HBoxModel",
          "model_module_version": "1.5.0",
          "state": {
            "_dom_classes": [],
            "_model_module": "@jupyter-widgets/controls",
            "_model_module_version": "1.5.0",
            "_model_name": "HBoxModel",
            "_view_count": null,
            "_view_module": "@jupyter-widgets/controls",
            "_view_module_version": "1.5.0",
            "_view_name": "HBoxView",
            "box_style": "",
            "children": [
              "IPY_MODEL_7e12388c76fc42058fedf35a80d65309",
              "IPY_MODEL_b7bf74531c974837a51849e0100fd121",
              "IPY_MODEL_06960b7ba05c4a71adc2fcbd8ba2b932"
            ],
            "layout": "IPY_MODEL_e3c8e074684e491d9f1dcbca7832914d"
          }
        },
        "7e12388c76fc42058fedf35a80d65309": {
          "model_module": "@jupyter-widgets/controls",
          "model_name": "HTMLModel",
          "model_module_version": "1.5.0",
          "state": {
            "_dom_classes": [],
            "_model_module": "@jupyter-widgets/controls",
            "_model_module_version": "1.5.0",
            "_model_name": "HTMLModel",
            "_view_count": null,
            "_view_module": "@jupyter-widgets/controls",
            "_view_module_version": "1.5.0",
            "_view_name": "HTMLView",
            "description": "",
            "description_tooltip": null,
            "layout": "IPY_MODEL_8217bb1a8b254592b697caa227e84a0e",
            "placeholder": "​",
            "style": "IPY_MODEL_f70a673c58934e4db442d711e8beeca8",
            "value": "Map: 100%"
          }
        },
        "b7bf74531c974837a51849e0100fd121": {
          "model_module": "@jupyter-widgets/controls",
          "model_name": "FloatProgressModel",
          "model_module_version": "1.5.0",
          "state": {
            "_dom_classes": [],
            "_model_module": "@jupyter-widgets/controls",
            "_model_module_version": "1.5.0",
            "_model_name": "FloatProgressModel",
            "_view_count": null,
            "_view_module": "@jupyter-widgets/controls",
            "_view_module_version": "1.5.0",
            "_view_name": "ProgressView",
            "bar_style": "success",
            "description": "",
            "description_tooltip": null,
            "layout": "IPY_MODEL_213f91aecc444a41a8230ea2572c2b18",
            "max": 321,
            "min": 0,
            "orientation": "horizontal",
            "style": "IPY_MODEL_42696f5ab35d4633bd36d3a91a117cab",
            "value": 321
          }
        },
        "06960b7ba05c4a71adc2fcbd8ba2b932": {
          "model_module": "@jupyter-widgets/controls",
          "model_name": "HTMLModel",
          "model_module_version": "1.5.0",
          "state": {
            "_dom_classes": [],
            "_model_module": "@jupyter-widgets/controls",
            "_model_module_version": "1.5.0",
            "_model_name": "HTMLModel",
            "_view_count": null,
            "_view_module": "@jupyter-widgets/controls",
            "_view_module_version": "1.5.0",
            "_view_name": "HTMLView",
            "description": "",
            "description_tooltip": null,
            "layout": "IPY_MODEL_fc1b254b68d34501b4cb45f4c18b291a",
            "placeholder": "​",
            "style": "IPY_MODEL_941c16a5a30a429ab43958fd9b8118bc",
            "value": " 321/321 [00:00&lt;00:00, 5029.10 examples/s]"
          }
        },
        "e3c8e074684e491d9f1dcbca7832914d": {
          "model_module": "@jupyter-widgets/base",
          "model_name": "LayoutModel",
          "model_module_version": "1.2.0",
          "state": {
            "_model_module": "@jupyter-widgets/base",
            "_model_module_version": "1.2.0",
            "_model_name": "LayoutModel",
            "_view_count": null,
            "_view_module": "@jupyter-widgets/base",
            "_view_module_version": "1.2.0",
            "_view_name": "LayoutView",
            "align_content": null,
            "align_items": null,
            "align_self": null,
            "border": null,
            "bottom": null,
            "display": null,
            "flex": null,
            "flex_flow": null,
            "grid_area": null,
            "grid_auto_columns": null,
            "grid_auto_flow": null,
            "grid_auto_rows": null,
            "grid_column": null,
            "grid_gap": null,
            "grid_row": null,
            "grid_template_areas": null,
            "grid_template_columns": null,
            "grid_template_rows": null,
            "height": null,
            "justify_content": null,
            "justify_items": null,
            "left": null,
            "margin": null,
            "max_height": null,
            "max_width": null,
            "min_height": null,
            "min_width": null,
            "object_fit": null,
            "object_position": null,
            "order": null,
            "overflow": null,
            "overflow_x": null,
            "overflow_y": null,
            "padding": null,
            "right": null,
            "top": null,
            "visibility": null,
            "width": null
          }
        },
        "8217bb1a8b254592b697caa227e84a0e": {
          "model_module": "@jupyter-widgets/base",
          "model_name": "LayoutModel",
          "model_module_version": "1.2.0",
          "state": {
            "_model_module": "@jupyter-widgets/base",
            "_model_module_version": "1.2.0",
            "_model_name": "LayoutModel",
            "_view_count": null,
            "_view_module": "@jupyter-widgets/base",
            "_view_module_version": "1.2.0",
            "_view_name": "LayoutView",
            "align_content": null,
            "align_items": null,
            "align_self": null,
            "border": null,
            "bottom": null,
            "display": null,
            "flex": null,
            "flex_flow": null,
            "grid_area": null,
            "grid_auto_columns": null,
            "grid_auto_flow": null,
            "grid_auto_rows": null,
            "grid_column": null,
            "grid_gap": null,
            "grid_row": null,
            "grid_template_areas": null,
            "grid_template_columns": null,
            "grid_template_rows": null,
            "height": null,
            "justify_content": null,
            "justify_items": null,
            "left": null,
            "margin": null,
            "max_height": null,
            "max_width": null,
            "min_height": null,
            "min_width": null,
            "object_fit": null,
            "object_position": null,
            "order": null,
            "overflow": null,
            "overflow_x": null,
            "overflow_y": null,
            "padding": null,
            "right": null,
            "top": null,
            "visibility": null,
            "width": null
          }
        },
        "f70a673c58934e4db442d711e8beeca8": {
          "model_module": "@jupyter-widgets/controls",
          "model_name": "DescriptionStyleModel",
          "model_module_version": "1.5.0",
          "state": {
            "_model_module": "@jupyter-widgets/controls",
            "_model_module_version": "1.5.0",
            "_model_name": "DescriptionStyleModel",
            "_view_count": null,
            "_view_module": "@jupyter-widgets/base",
            "_view_module_version": "1.2.0",
            "_view_name": "StyleView",
            "description_width": ""
          }
        },
        "213f91aecc444a41a8230ea2572c2b18": {
          "model_module": "@jupyter-widgets/base",
          "model_name": "LayoutModel",
          "model_module_version": "1.2.0",
          "state": {
            "_model_module": "@jupyter-widgets/base",
            "_model_module_version": "1.2.0",
            "_model_name": "LayoutModel",
            "_view_count": null,
            "_view_module": "@jupyter-widgets/base",
            "_view_module_version": "1.2.0",
            "_view_name": "LayoutView",
            "align_content": null,
            "align_items": null,
            "align_self": null,
            "border": null,
            "bottom": null,
            "display": null,
            "flex": null,
            "flex_flow": null,
            "grid_area": null,
            "grid_auto_columns": null,
            "grid_auto_flow": null,
            "grid_auto_rows": null,
            "grid_column": null,
            "grid_gap": null,
            "grid_row": null,
            "grid_template_areas": null,
            "grid_template_columns": null,
            "grid_template_rows": null,
            "height": null,
            "justify_content": null,
            "justify_items": null,
            "left": null,
            "margin": null,
            "max_height": null,
            "max_width": null,
            "min_height": null,
            "min_width": null,
            "object_fit": null,
            "object_position": null,
            "order": null,
            "overflow": null,
            "overflow_x": null,
            "overflow_y": null,
            "padding": null,
            "right": null,
            "top": null,
            "visibility": null,
            "width": null
          }
        },
        "42696f5ab35d4633bd36d3a91a117cab": {
          "model_module": "@jupyter-widgets/controls",
          "model_name": "ProgressStyleModel",
          "model_module_version": "1.5.0",
          "state": {
            "_model_module": "@jupyter-widgets/controls",
            "_model_module_version": "1.5.0",
            "_model_name": "ProgressStyleModel",
            "_view_count": null,
            "_view_module": "@jupyter-widgets/base",
            "_view_module_version": "1.2.0",
            "_view_name": "StyleView",
            "bar_color": null,
            "description_width": ""
          }
        },
        "fc1b254b68d34501b4cb45f4c18b291a": {
          "model_module": "@jupyter-widgets/base",
          "model_name": "LayoutModel",
          "model_module_version": "1.2.0",
          "state": {
            "_model_module": "@jupyter-widgets/base",
            "_model_module_version": "1.2.0",
            "_model_name": "LayoutModel",
            "_view_count": null,
            "_view_module": "@jupyter-widgets/base",
            "_view_module_version": "1.2.0",
            "_view_name": "LayoutView",
            "align_content": null,
            "align_items": null,
            "align_self": null,
            "border": null,
            "bottom": null,
            "display": null,
            "flex": null,
            "flex_flow": null,
            "grid_area": null,
            "grid_auto_columns": null,
            "grid_auto_flow": null,
            "grid_auto_rows": null,
            "grid_column": null,
            "grid_gap": null,
            "grid_row": null,
            "grid_template_areas": null,
            "grid_template_columns": null,
            "grid_template_rows": null,
            "height": null,
            "justify_content": null,
            "justify_items": null,
            "left": null,
            "margin": null,
            "max_height": null,
            "max_width": null,
            "min_height": null,
            "min_width": null,
            "object_fit": null,
            "object_position": null,
            "order": null,
            "overflow": null,
            "overflow_x": null,
            "overflow_y": null,
            "padding": null,
            "right": null,
            "top": null,
            "visibility": null,
            "width": null
          }
        },
        "941c16a5a30a429ab43958fd9b8118bc": {
          "model_module": "@jupyter-widgets/controls",
          "model_name": "DescriptionStyleModel",
          "model_module_version": "1.5.0",
          "state": {
            "_model_module": "@jupyter-widgets/controls",
            "_model_module_version": "1.5.0",
            "_model_name": "DescriptionStyleModel",
            "_view_count": null,
            "_view_module": "@jupyter-widgets/base",
            "_view_module_version": "1.2.0",
            "_view_name": "StyleView",
            "description_width": ""
          }
        }
      }
    }
  },
  "nbformat": 4,
  "nbformat_minor": 0
}